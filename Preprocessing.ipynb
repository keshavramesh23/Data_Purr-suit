{
 "cells": [
  {
   "cell_type": "code",
   "execution_count": 23,
   "metadata": {},
   "outputs": [],
   "source": [
    "import pandas as pd\n",
    "import glob\n",
    "import os\n",
    "\n",
    "# Set the path to your directory containing the CSV files\n",
    "directory_path = r\"C:\\Users\\aariz\\Documents\\AUS\\Semester 8\\COE 444\\Project\\Dataset\\Test\\\\\"\n",
    "\n",
    "# Use glob to find all the CSV files in the directory\n",
    "csv_files = glob.glob(os.path.join(directory_path, \"*.csv\"))\n",
    "\n",
    "# Initialize an empty list to store the data frames\n",
    "dfs = []\n",
    "\n",
    "# Loop over the list of csv files\n",
    "for file in csv_files:\n",
    "    # Read the csv file and append it to the list of data frames\n",
    "    df = pd.read_csv(file)\n",
    "    dfs.append(df)\n",
    "\n",
    "# Concatenate all the data frames in the list into a single data frame\n",
    "combined_df = pd.concat(dfs, ignore_index=True)\n",
    "\n",
    "# Optionally, save the combined data frame to a new csv file\n",
    "combined_df.to_csv(r\"C:\\Users\\aariz\\Documents\\AUS\\Semester 8\\COE 444\\Project\\Dataset\\Test\\Recon-VulScan.csv\", index=False)\n"
   ]
  },
  {
   "cell_type": "code",
   "execution_count": 27,
   "metadata": {},
   "outputs": [],
   "source": [
    "import pandas as pd\n",
    "import glob\n",
    "import os\n",
    "\n",
    "# Define the directory where the CSV files are stored\n",
    "# Since we cannot access the real file system, this is a placeholder directory path\n",
    "directory_path = r\"C:\\Users\\aariz\\Documents\\AUS\\Semester 8\\COE 444\\Project\\Dataset\\Test\\\\\"\n",
    "\n",
    "# Use glob to find all CSV files in the directory\n",
    "csv_files = glob.glob(os.path.join(directory_path, \"*.csv\"))\n",
    "\n",
    "# Initialize an empty list to store the data frames\n",
    "dfs = []\n",
    "\n",
    "# Loop over the list of csv files\n",
    "for file in csv_files:\n",
    "    # Read the csv file\n",
    "    df = pd.read_csv(file)\n",
    "    \n",
    "    # Extract the type of attack from the filename and create a new column\n",
    "    attack_type = os.path.basename(file).split('.')[0]  # Get the filename without extension\n",
    "    attack_type = attack_type.replace('TCP_IP-', '')  # Remove the MQTT- prefix\n",
    "    attack_type = attack_type.replace('_', '-')  # Replace underscore with hyphen\n",
    "    df['Attack'] = attack_type  # Create the new column with the attack type\n",
    "    \n",
    "    # Append the dataframe to the list\n",
    "    dfs.append(df)\n",
    "\n",
    "# Concatenate all the data frames in the list into a single data frame\n",
    "combined_df = pd.concat(dfs, ignore_index=True)\n",
    "\n",
    "# Save the combined DataFrame to a new csv file\n",
    "output_filename = r\"C:\\Users\\aariz\\Documents\\AUS\\Semester 8\\COE 444\\Project\\Dataset\\Test\\TCP_IP-DoS.csv\"\n",
    "combined_df.to_csv(output_filename, index=False)\n",
    "\n",
    "\n"
   ]
  },
  {
   "cell_type": "code",
   "execution_count": 29,
   "metadata": {},
   "outputs": [
    {
     "data": {
      "text/plain": [
       "'C:\\\\Users\\\\aariz\\\\Documents\\\\AUS\\\\Semester 8\\\\COE 444\\\\Project\\\\Dataset\\\\Final\\\\Processed_Dataset.csv'"
      ]
     },
     "execution_count": 29,
     "metadata": {},
     "output_type": "execute_result"
    }
   ],
   "source": [
    "import pandas as pd\n",
    "import glob\n",
    "import os\n",
    "\n",
    "# Define the directory where the CSV files are stored\n",
    "# Since we cannot access the real file system, this is a placeholder directory path\n",
    "directory_path = r\"C:\\Users\\aariz\\Documents\\AUS\\Semester 8\\COE 444\\Project\\Dataset\\Final\\\\\"\n",
    "\n",
    "# Use glob to find all CSV files in the directory\n",
    "csv_files = glob.glob(os.path.join(directory_path, \"*.csv\"))\n",
    "\n",
    "# Initialize an empty list to store the data frames\n",
    "dfs = []\n",
    "\n",
    "# Loop over the list of csv files\n",
    "for file in csv_files:\n",
    "    # Read the csv file\n",
    "    df = pd.read_csv(file)\n",
    "    \n",
    "    # Extract the category from the filename and create a new column\n",
    "    category = os.path.basename(file).split('.')[0]  # Get the filename without extension\n",
    "    df['Category'] = category  # Create the new column with the category\n",
    "    \n",
    "    # Append the dataframe to the list\n",
    "    dfs.append(df)\n",
    "\n",
    "# Concatenate all the data frames in the list into a single data frame\n",
    "combined_df = pd.concat(dfs, ignore_index=True)\n",
    "\n",
    "# Save the combined DataFrame to a new csv file\n",
    "output_filename = r\"C:\\Users\\aariz\\Documents\\AUS\\Semester 8\\COE 444\\Project\\Dataset\\Final\\Processed_Dataset.csv\"\n",
    "combined_df.to_csv(output_filename, index=False)\n",
    "\n",
    "output_filename\n"
   ]
  },
  {
   "cell_type": "code",
   "execution_count": 30,
   "metadata": {},
   "outputs": [
    {
     "data": {
      "text/plain": [
       "(8757222, 47)"
      ]
     },
     "execution_count": 30,
     "metadata": {},
     "output_type": "execute_result"
    }
   ],
   "source": [
    "combined_df.shape"
   ]
  }
 ],
 "metadata": {
  "kernelspec": {
   "display_name": "tf",
   "language": "python",
   "name": "python3"
  },
  "language_info": {
   "codemirror_mode": {
    "name": "ipython",
    "version": 3
   },
   "file_extension": ".py",
   "mimetype": "text/x-python",
   "name": "python",
   "nbconvert_exporter": "python",
   "pygments_lexer": "ipython3",
   "version": "3.9.18"
  }
 },
 "nbformat": 4,
 "nbformat_minor": 2
}
