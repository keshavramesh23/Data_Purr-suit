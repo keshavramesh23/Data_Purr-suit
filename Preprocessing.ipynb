{
 "cells": [
  {
   "cell_type": "code",
   "execution_count": 19,
   "metadata": {},
   "outputs": [],
   "source": [
    "import pandas as pd\n",
    "import glob\n",
    "import os\n",
    "\n",
    "# Set the path to your directory containing the CSV files\n",
    "directory_path = r\"C:\\Users\\aariz\\Documents\\AUS\\Semester 8\\COE 444\\Project\\Dataset\\Test\\\\\"\n",
    "\n",
    "# Use glob to find all the CSV files in the directory\n",
    "csv_files = glob.glob(os.path.join(directory_path, \"*.csv\"))\n",
    "\n",
    "# Initialize an empty list to store the data frames\n",
    "dfs = []\n",
    "\n",
    "# Loop over the list of csv files\n",
    "for file in csv_files:\n",
    "    # Read the csv file and append it to the list of data frames\n",
    "    df = pd.read_csv(file)\n",
    "    dfs.append(df)\n",
    "\n",
    "# Concatenate all the data frames in the list into a single data frame\n",
    "combined_df = pd.concat(dfs, ignore_index=True)\n",
    "\n",
    "# Optionally, save the combined data frame to a new csv file\n",
    "combined_df.to_csv(r\"C:\\Users\\aariz\\Documents\\AUS\\Semester 8\\COE 444\\Project\\Dataset\\Test\\MQTT-Malformed_Data.csv\", index=False)\n"
   ]
  }
 ],
 "metadata": {
  "kernelspec": {
   "display_name": "tf",
   "language": "python",
   "name": "python3"
  },
  "language_info": {
   "codemirror_mode": {
    "name": "ipython",
    "version": 3
   },
   "file_extension": ".py",
   "mimetype": "text/x-python",
   "name": "python",
   "nbconvert_exporter": "python",
   "pygments_lexer": "ipython3",
   "version": "3.9.18"
  }
 },
 "nbformat": 4,
 "nbformat_minor": 2
}
